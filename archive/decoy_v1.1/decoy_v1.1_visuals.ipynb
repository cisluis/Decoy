{
 "cells": [
  {
   "cell_type": "markdown",
   "id": "11d203c3",
   "metadata": {},
   "source": [
    "# Decoy Effect Model - Version 1.1 - Visualization \n",
    "\n",
    "March 12 2023"
   ]
  },
  {
   "cell_type": "markdown",
   "id": "f40467ee",
   "metadata": {},
   "source": [
    "## Display results of Decoy Simulations"
   ]
  },
  {
   "cell_type": "code",
   "execution_count": null,
   "id": "93791a26",
   "metadata": {},
   "outputs": [],
   "source": [
    "import sys\n",
    "import numpy as np\n",
    "import pandas as pd\n",
    "import matplotlib.pyplot as plt\n",
    "import matplotlib.colors as mplc\n",
    "\n",
    "from functions import Params, animate\n",
    "#from model import Decoy\n",
    "#from agents import Cell"
   ]
  },
  {
   "cell_type": "markdown",
   "id": "5c38b93e",
   "metadata": {},
   "source": [
    "## Retreive data "
   ]
  },
  {
   "cell_type": "code",
   "execution_count": null,
   "id": "1db70734",
   "metadata": {},
   "outputs": [],
   "source": [
    "params_tbl = pd.read_csv('parameters.csv')\n",
    "params = Params()\n",
    "\n",
    "i = 0   # index of result of interest\n",
    "params.read_parameters_from_tbl(params_tbl , i)\n",
    "simid = \"sim_\" + \"{:04d}\".format(params.id) \n",
    "print(simid)\n",
    "outfile = \"simulations/\" + simid + \".npz\"\n",
    "\n",
    "aux = np.load(outfile)\n",
    "cell_grid = aux['cell_grid'] \n",
    "mv_grid = aux['mv_grid'] \n",
    "drug_grid = aux['drug_grid'] \n",
    "t_series = pd.DataFrame(aux['t_series'], columns = ['Step','SNVs','SHVs', 'RNVs'])\n",
    "cell_table = pd.DataFrame(aux['cell_table'], columns = ['time','cell_id','phenotype', \n",
    "                                                        'age', 'x', 'y', 'drug', 'mvoutput'])\n",
    "\n",
    "cell_table = cell_table.astype({\"time\":\"int\", \"cell_id\":\"int\", \n",
    "                                \"phenotype\":\"int\",\"age\":\"int\", \n",
    "                                \"x\":\"int\", \"y\":\"int\"})\n",
    "\n",
    "cell_bins = [-1, 0, 1, 2, 3]\n",
    "cell_colors = (\"#000000\", \"#2b83ba\", \"#1a9641\", \"#d7191c\")\n",
    "cell_labels = (\"\", \"SNV\", \"SHV\", \"RNV\")\n",
    "\n",
    "cmap = mplc.ListedColormap(cell_colors)\n",
    "norm = mplc.BoundaryNorm(cell_bins, len(cell_bins))\n",
    "\n",
    "%matplotlib inline\n",
    "\n",
    "N = len(t_series)\n",
    "\n",
    "ax = plt.subplot(1,1,1)\n",
    "ax.plot(t_series.Step, t_series.SNVs, label=cell_labels[1], color=cell_colors[1])\n",
    "ax.plot(t_series.Step, t_series.SHVs, label=cell_labels[2], color=cell_colors[2])\n",
    "ax.plot(t_series.Step, t_series.RNVs, label=cell_labels[3], color=cell_colors[3])\n",
    "ax.set_xlabel(\"Time Steps [ticks]\")\n",
    "ax.set_ylabel(\"Number of cells\")\n",
    "ax.set_yscale('log')\n",
    "ax.legend()\n",
    "plt.show()"
   ]
  },
  {
   "cell_type": "markdown",
   "id": "d94d67c6",
   "metadata": {},
   "source": [
    "## Cell-level stats"
   ]
  },
  {
   "cell_type": "code",
   "execution_count": null,
   "id": "038dfd3e",
   "metadata": {},
   "outputs": [],
   "source": [
    "aux = (cell_table.groupby(['time', 'phenotype'])['mvoutput'].agg(['mean', 'std'])\n",
    "       .set_axis(['mvoutput_mean', 'mvoutput_std'], axis=1)\n",
    "       .reset_index()\n",
    "       [['time', 'phenotype', 'mvoutput_mean', 'mvoutput_std']])\n",
    "\n",
    "maxt = np.max(aux.loc[aux['phenotype']==1, 'time'])\n",
    "\n",
    "ax = plt.subplot(1,1,1)\n",
    "indx = aux['phenotype'] == 1\n",
    "ax.errorbar(aux.time[indx], aux.mvoutput_mean[indx], yerr=aux.mvoutput_std[indx],\n",
    "            color=cell_colors[2], label=cell_labels[2])\n",
    "ax.set_xlabel(\"Time Steps [ticks]\")\n",
    "ax.set_ylabel(\"Mean MV output per cell\")\n",
    "ax.set_xlim([0, maxt+1])\n",
    "ax.legend()\n",
    "plt.show()"
   ]
  },
  {
   "cell_type": "code",
   "execution_count": null,
   "id": "441f39c3",
   "metadata": {},
   "outputs": [],
   "source": [
    "aux = (cell_table.groupby(['time', 'phenotype'])['drug'].agg(['mean', 'std'])\n",
    "       .set_axis(['drug_mean', 'drug_std'], axis=1)\n",
    "       .reset_index()\n",
    "       [['time', 'phenotype', 'drug_mean', 'drug_std']])\n",
    "\n",
    "maxt = np.max(aux.loc[aux['phenotype']<2, 'time'])\n",
    "\n",
    "ax = plt.subplot(1,1,1)\n",
    "for phen in range(2):\n",
    "    indx = aux['phenotype'] == phen\n",
    "    ax.errorbar(aux.time[indx], aux.drug_mean[indx], yerr=aux.drug_std[indx],\n",
    "                color=cell_colors[phen+1], label=cell_labels[phen+1])\n",
    "ax.set_xlabel(\"Time Steps [ticks]\")\n",
    "ax.set_ylabel(\"Mean cell drug toxicity\")\n",
    "ax.set_xlim([0, maxt+1])\n",
    "ax.legend()\n",
    "plt.show()"
   ]
  },
  {
   "cell_type": "markdown",
   "id": "df736170",
   "metadata": {},
   "source": [
    "## Grid display"
   ]
  },
  {
   "cell_type": "code",
   "execution_count": null,
   "id": "170340d2",
   "metadata": {},
   "outputs": [],
   "source": [
    "# We need `notebook` for the anim to render in the notebook\n",
    "%matplotlib notebook\n",
    "\n",
    "#plt.imshow(cells[-1, :, :], interpolation='nearest', cmap=cmap, norm=norm)\n",
    "#plt.show()\n",
    "\n",
    "anim = animate(cell_grid, N, cmap, norm,  \"cells_\"+ simid + \".mp4\")"
   ]
  },
  {
   "cell_type": "code",
   "execution_count": null,
   "id": "93ee215d",
   "metadata": {},
   "outputs": [],
   "source": [
    "mv_bins = np.linspace(0, np.max(mv_grid), 11, endpoint=True)\n",
    "#mv_bins = np.linspace(0, MAX_MVS_SITE, 11, endpoint=True)\n",
    "mv_colors = (\"#ffffff\", \"#f7fcfd\", \"#e5f5f9\", \"#ccece6\", \"#99d8c9\",\n",
    "             \"#66c2a4\", \"#41ae76\", \"#238b45\", \"#006d2c\", \"#00441b\", \"#000000\")\n",
    "\n",
    "cmap = mplc.ListedColormap(mv_colors)\n",
    "norm = mplc.BoundaryNorm(mv_bins, len(mv_bins))\n",
    "\n",
    "#plt.imshow(mv_grid[-1, :, :], interpolation='nearest', cmap=cmap, norm=norm)\n",
    "#plt.show()\n",
    "\n",
    "anim = animate(mv_grid, N, cmap, norm,  \"mvs_\"+ simid + \".mp4\")"
   ]
  },
  {
   "cell_type": "code",
   "execution_count": null,
   "id": "168e6824",
   "metadata": {},
   "outputs": [],
   "source": [
    "drug_bins = np.linspace(0, np.max(drug_grid), 11, endpoint=True)\n",
    "#drug_bins = np.linspace(0, MAX_DRUG_SITE, 11, endpoint=True)\n",
    "drug_colors = (\"#ffffff\", \"#ffffcc\", \"#ffeda0\", \"#fed976\", \"#feb24c\", \n",
    "               \"#fd8d3c\", \"#fc4e2a\", \"#e31a1c\", \"#bd0026\", \"#800026\", \"#000000\")\n",
    "\n",
    "cmap = mplc.ListedColormap(drug_colors)\n",
    "norm = mplc.BoundaryNorm(drug_bins, len(drug_bins))\n",
    "\n",
    "#plt.imshow(drug_grid[-1, :, :], interpolation='nearest', cmap=cmap, norm=norm)\n",
    "#plt.show()\n",
    "anim = animate(drug_grid, N, cmap, norm,  \"drugs_\"+ simid + \".mp4\")"
   ]
  },
  {
   "cell_type": "code",
   "execution_count": null,
   "id": "3b60ab1b",
   "metadata": {},
   "outputs": [],
   "source": []
  },
  {
   "cell_type": "markdown",
   "id": "4439fbf2",
   "metadata": {},
   "source": [
    "# Using Mesa visualization tools"
   ]
  },
  {
   "cell_type": "code",
   "execution_count": null,
   "id": "24d2a5b2",
   "metadata": {},
   "outputs": [],
   "source": [
    "def agent_portrayal(agent):\n",
    "    \n",
    "    cell_colors = (\"#2b83ba\", \"#1a9641\", \"#d7191c\")\n",
    "\n",
    "    mv_bins = np.linspace(0, MAX_MVS_SITE, 11, endpoint=True)\n",
    "    mv_colors = (\"#ffffff\", \"#f7fcfd\", \"#e5f5f9\", \"#ccece6\", \"#99d8c9\",\n",
    "                 \"#66c2a4\", \"#41ae76\", \"#238b45\", \"#006d2c\", \"#00441b\", \"#000000\")\n",
    "\n",
    "    drug_bins = np.linspace(0, MAX_DRUG_SITE, 11, endpoint=True)\n",
    "    drug_colors = (\"#ffffff\", \"#ffffcc\", \"#ffeda0\", \"#fed976\", \"#feb24c\", \n",
    "                   \"#fd8d3c\", \"#fc4e2a\", \"#e31a1c\", \"#bd0026\", \"#800026\", \"#000000\")\n",
    "\n",
    "    if agent is None:\n",
    "        return\n",
    "\n",
    "    if type(agent) is Cell:\n",
    "        return {\"Color\": cell_colors[agent.phenotype],\n",
    "                \"Shape\": \"rect\",\n",
    "                \"Filled\": \"true\",\n",
    "                \"Layer\": 2,\n",
    "                \"w\": 1,\n",
    "                \"h\": 1, }\n",
    "    \n",
    "    elif type(agent) is MV:\n",
    "        return {\"Color\": mv_colors[np.digitize(agent.amount, mv_bins, right=True)],\n",
    "                \"Shape\": \"rect\",\n",
    "                \"Filled\": \"true\",\n",
    "                \"Layer\": 1,\n",
    "                \"w\": 1,\n",
    "                \"h\": 1, }\n",
    "    \n",
    "    elif type(agent) is Drug:\n",
    "        return {\"Color\": drug_colors[np.digitize(agent.amount, drug_bins, right=True)],\n",
    "                \"Shape\": \"rect\",\n",
    "                \"Filled\": \"true\",\n",
    "                \"Layer\": 0,\n",
    "                \"w\": 1,\n",
    "                \"h\": 1, }\n",
    "\n",
    "    return {}\n",
    "\n",
    "\n",
    "canvas_element = mesa.visualization.CanvasGrid(agent_portrayal, WIDTH , HEIGHT , 600 , 600 )\n",
    "\n",
    "#chart_element = mesa.visualization.ChartModule([{\"Label\": \"Agent\", \"Color\": \"#AA0000\"}])\n",
    "\n",
    "server = mesa.visualization.ModularServer(Decoy, \n",
    "                                          #[canvas_element, chart_element],\n",
    "                                          [canvas_element],\n",
    "                                          \"Decoy Model V.0.0\",\n",
    "                                         {\"width\":WIDTH, \n",
    "                                          \"height\":HEIGHT, \n",
    "                                          \"initial_population\": INITIAL_POPULATION})"
   ]
  },
  {
   "cell_type": "code",
   "execution_count": null,
   "id": "76af6d73",
   "metadata": {},
   "outputs": [],
   "source": [
    "server.launch()"
   ]
  },
  {
   "cell_type": "markdown",
   "id": "d1675396",
   "metadata": {},
   "source": [
    "# MISC helping code"
   ]
  },
  {
   "cell_type": "markdown",
   "id": "e9426400",
   "metadata": {},
   "source": [
    "## the event probability function"
   ]
  },
  {
   "cell_type": "code",
   "execution_count": null,
   "id": "8d011f2e",
   "metadata": {},
   "outputs": [],
   "source": [
    "################################################################################################\n",
    "\n",
    "from scipy.stats import norm\n",
    "import matplotlib.pyplot as plt\n",
    "\n",
    "fig, ax = plt.subplots(1, 1)\n",
    "t = np.linspace(0, 2*REPLICATION_AGE, 1000)\n",
    "ax.plot(t, event_probability(t, REPLICATION_AGE, REPLICATION_AGE/20), color = 'b')\n",
    "ax.axvline(x = REPLICATION_AGE, color = 'r', ls='--')\n",
    "ax.axvline(x = (REPLICATION_AGE)*(0.95), color = 'r', ls=':')\n",
    "ax.axvline(x = (REPLICATION_AGE)*(1.05), color = 'r', ls=':')\n",
    "ax.axhline(y = 1, color = 'k', ls=':')\n",
    "ax.axhline(y = 0, color = 'k', ls=':')\n",
    "ax.axhline(y = 0.5, color = 'k', ls=':')"
   ]
  },
  {
   "cell_type": "markdown",
   "id": "1bd58826",
   "metadata": {},
   "source": [
    "## the response Sigmoid function"
   ]
  },
  {
   "cell_type": "code",
   "execution_count": null,
   "id": "f8ded62e",
   "metadata": {},
   "outputs": [],
   "source": [
    "MAX_DRUG = 100\n",
    "MAX_MVS = 100\n",
    "NU_D = 100\n",
    "NU_0 = 0\n",
    "\n",
    "fig, ax = plt.subplots(1, 1)\n",
    "x = np.linspace(0, MAX_DRUG, 1000)\n",
    "ax.plot(x, sigmoid(x, NU_D, MAX_MVS), color = 'b')\n",
    "ax.plot(x, NU_D*x, color = 'k')\n",
    "ax.axhline(y = MAX_MVS, color = 'k', ls=':')\n",
    "ax.axhline(y = NU_0, color = 'k', ls=':')\n",
    "ax.axhline(y = 0, color = 'k', ls=':')\n",
    "ax.axvline(x = 0, color = 'r', ls=':')\n",
    "ax.set_xlim([0, MAX_DRUG ])\n",
    "ax.set_ylim([0, MAX_MVS*1.2])"
   ]
  },
  {
   "cell_type": "markdown",
   "id": "1d47e5e8",
   "metadata": {},
   "source": [
    "## animation example"
   ]
  },
  {
   "cell_type": "code",
   "execution_count": null,
   "id": "8ff727a0",
   "metadata": {},
   "outputs": [],
   "source": [
    "# Usually we use `%matplotlib inline`. However we need `notebook` for the anim to render in the notebook.\n",
    "%matplotlib notebook\n",
    "\n",
    "import random\n",
    "import numpy as np\n",
    "\n",
    "import matplotlib\n",
    "import matplotlib.pyplot as plt\n",
    "\n",
    "import matplotlib.animation as animation\n",
    "\n",
    "\n",
    "fps = 30\n",
    "#snapshots = [ np.random.rand(5,5) for _ in range( nSeconds * fps ) ]\n",
    "snapshots = [ cell_grid[i, :, :] for i in range(100) ]\n",
    "\n",
    "# First set up the figure, the axis, and the plot element we want to animate\n",
    "fig = plt.figure( figsize=(8,8) )\n",
    "\n",
    "im = plt.imshow(snapshots[0], interpolation='nearest', aspect='auto', cmap=cmap, norm=norm)\n",
    "\n",
    "def animate_func(i):\n",
    "    if i % fps == 0:\n",
    "        print( '.', end ='' )\n",
    "\n",
    "    im.set_array(snapshots[i])\n",
    "    return [im]\n",
    "\n",
    "anim = animation.FuncAnimation(fig, \n",
    "                               animate_func, \n",
    "                               frames = 100,\n",
    "                               interval = 1000 / fps)\n",
    "\n",
    "#anim.save('test_anim.mp4', fps=fps, extra_args=['-vcodec', 'libx264'])\n",
    "\n",
    "print('Done!')\n"
   ]
  },
  {
   "cell_type": "code",
   "execution_count": null,
   "id": "bab6cea9",
   "metadata": {},
   "outputs": [],
   "source": [
    "cell_grid.shape\n"
   ]
  },
  {
   "cell_type": "code",
   "execution_count": null,
   "id": "b472ab6b",
   "metadata": {},
   "outputs": [],
   "source": [
    "cellgrid = np.zeros((decoy_model.grid.width, decoy_model.grid.height))\n",
    "mvgrid = np.zeros((decoy_model.grid.width, decoy_model.grid.height))\n",
    "druggrid = np.zeros((decoy_model.grid.width, decoy_model.grid.height))\n",
    "\n",
    "for pos in decoy_model.grid.coord_iter():\n",
    "    agents, x, y = pos\n",
    "    \n",
    "    cell = [agent.phenotype for agent in agents if type(agent) is Cell]\n",
    "    if (len(cell)==0):\n",
    "        cell = [-1]\n",
    "    mv = [agent.amount for agent in agents if type(agent) is MV]\n",
    "    drug = [agent.amount for agent in agents if type(agent) is Drug]\n",
    "    \n",
    "    cellgrid[y][x] = cell[0]\n",
    "    mvgrid[y][x] = mv[0]\n",
    "    druggrid[y][x] = drug[0]\n",
    "    "
   ]
  },
  {
   "cell_type": "code",
   "execution_count": null,
   "id": "92006d44",
   "metadata": {},
   "outputs": [],
   "source": []
  }
 ],
 "metadata": {
  "kernelspec": {
   "display_name": "Python 3 (ipykernel)",
   "language": "python",
   "name": "python3"
  },
  "language_info": {
   "codemirror_mode": {
    "name": "ipython",
    "version": 3
   },
   "file_extension": ".py",
   "mimetype": "text/x-python",
   "name": "python",
   "nbconvert_exporter": "python",
   "pygments_lexer": "ipython3",
   "version": "3.9.16"
  }
 },
 "nbformat": 4,
 "nbformat_minor": 5
}
