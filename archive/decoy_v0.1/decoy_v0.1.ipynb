{
 "cells": [
  {
   "cell_type": "markdown",
   "id": "11d203c3",
   "metadata": {},
   "source": [
    "# Decoy Effect Model - Version 0.1\n",
    "\n",
    "March 11 2023\n"
   ]
  },
  {
   "cell_type": "code",
   "execution_count": null,
   "id": "dd95890e",
   "metadata": {},
   "outputs": [],
   "source": [
    "import sys\n",
    "import numpy as np\n",
    "import pandas as pd\n",
    "import matplotlib.pyplot as plt\n",
    "import matplotlib.colors as mplc\n",
    "\n",
    "from functions import Params, animate\n",
    "from model import Decoy\n",
    "from agents import Cell, MV, Drug"
   ]
  },
  {
   "cell_type": "markdown",
   "id": "33538326",
   "metadata": {},
   "source": [
    "## OPTION 1: set parameters manually"
   ]
  },
  {
   "cell_type": "code",
   "execution_count": null,
   "id": "e2a0531d",
   "metadata": {},
   "outputs": [],
   "source": [
    "params = Params(0)\n",
    "\n",
    "# Simulation Parameters\n",
    "params.set_parameter(\"width\", 100)                         # Width of array grid\n",
    "params.set_parameter(\"height\", 100)                        # Height of array grid\n",
    "params.set_parameter(\"initial_population_0\", 100)          # Initial population of SNVs\n",
    "params.set_parameter(\"initial_population_1\", 50)           # Initial population of SHVs\n",
    "params.set_parameter(\"initial_population_2\", 10)           # Initial population of RNVs\n",
    "params.set_parameter(\"number_of_steps\", 100)               # Time length of simulation (in ticks)\n",
    "        \n",
    "# Dossage controls\n",
    "params.set_parameter(\"drug_dossage\", 1000)                  # Drug dossage per site  \n",
    "params.set_parameter(\"drug_dossage_time\", 1000)            # Time period for new dossage (+/- 1%)\n",
    "\n",
    "# Cell dynamics \n",
    "params.set_parameter(\"life_span\", 100)                     # Age of cells natural death (+/- 10%)\n",
    "params.set_parameter(\"division_age\", 5)                    # Base age of cell division (+/- 5%)\n",
    "params.set_parameter(\"fitness_cost_0\", 1)                  # Fitness factor for SNVs (multiply division age)\n",
    "params.set_parameter(\"fitness_cost_1\", 1.5)                # Fitness factor for SHVs (multiply division age)\n",
    "params.set_parameter(\"fitness_cost_2\", 2)                  # Fitness factor for RNVs (multiply division age)\n",
    "params.set_parameter(\"replacement_prob\", 0.1)              # Probability of cell replacement  \n",
    "params.set_parameter(\"kill_cell\", 5)                       # Killing threshold of cell by the drug\n",
    "        \n",
    "# Vesicle dynamics\n",
    "params.set_parameter(\"mv_prod_0\", 0)                       # Background vesicule production per cell per tick\n",
    "params.set_parameter(\"mv_prod_drug\", 1)                    # Vesicule production per cell per tick per unit drug\n",
    "params.set_parameter(\"mv_prod_max\", 10)                    # Maximun vesicle production per cell per tick\n",
    "params.set_parameter(\"kill_mv\", 0.1)                       # Max drug per MV (MV is `killed` when saturated)\n",
    "params.set_parameter(\"diff_mv\", 0.1)                       # Rate of MV difussion (per tick per site)\n",
    "params.set_parameter(\"mv_max\", 50)                         # Maximun MVs in grid site (MV saturation)\n",
    "\n",
    "# Drug dynamics\n",
    "params.set_parameter(\"drug_abs_cell\", 0.5)                 # Rate of drug absorption per cell per tick\n",
    "params.set_parameter(\"drug_abs_mv\", 0.1)                   # Rate of drug absorption per vesicle per tick\n",
    "params.set_parameter(\"drug_decay\", 0.01)                    # Rate of drug decay per tick    \n",
    "params.set_parameter(\"diff_drug\", 0.25)                    # Rate of drug difussion (per tick per site)    \n",
    "params.set_parameter('drug_max', 1000)                       # Maximune drug in grid site (drug saturation)"
   ]
  },
  {
   "cell_type": "markdown",
   "id": "88fe573a",
   "metadata": {},
   "source": [
    "## OPTION 2: read parameters from file"
   ]
  },
  {
   "cell_type": "code",
   "execution_count": null,
   "id": "29b9fb95",
   "metadata": {},
   "outputs": [],
   "source": [
    "params = Params(0, 'parameters_1.csv')"
   ]
  },
  {
   "cell_type": "markdown",
   "id": "07599dc3",
   "metadata": {
    "scrolled": false
   },
   "source": [
    "## Run single simulation"
   ]
  },
  {
   "cell_type": "code",
   "execution_count": null,
   "id": "b84dc381",
   "metadata": {
    "scrolled": false
   },
   "outputs": [],
   "source": [
    "simid = \"sim_\" + \"{:04d}\".format(params.id) \n",
    "decoy_model = Decoy(params, verbose = True)\n",
    "outfile = \"simulations/\" + simid + \".npz\"\n",
    "cell_grid, mv_grid, drug_grid, time_series, cell_table = decoy_model.run_model(outfile)"
   ]
  },
  {
   "cell_type": "markdown",
   "id": "9908537c",
   "metadata": {},
   "source": [
    "## Run a batch, using parameter file"
   ]
  },
  {
   "cell_type": "code",
   "execution_count": null,
   "id": "04c42f08",
   "metadata": {},
   "outputs": [],
   "source": [
    "params_tbl = pd.read_csv('parameters.csv')\n",
    "params = Params()\n",
    "\n",
    "N = len(params_tbl.index)\n",
    "for i in range(N):\n",
    "    \n",
    "    params.read_parameters_from_tbl(params_tbl , i)\n",
    "    simid = \"sim_\" + \"{:04d}\".format(params.id)\n",
    "    outfile = \"simulations/\" + simid + \".npz\"\n",
    "    \n",
    "    print(\">>> Running Simulation: \" + simid +\" ... \"+ str(i+1) + \"/\" + str(N), end=\"\\r\")\n",
    "    \n",
    "    decoy_model = Decoy(params, verbose = False)\n",
    "    cell_grid, mv_grid, drug_grid, time_series, cell_table = decoy_model.run_model(outfile)\n",
    "    \n",
    "    "
   ]
  },
  {
   "cell_type": "markdown",
   "id": "43999c4a",
   "metadata": {},
   "source": [
    "## Retreive data saved in previous run"
   ]
  },
  {
   "cell_type": "code",
   "execution_count": null,
   "id": "5becad1d",
   "metadata": {},
   "outputs": [],
   "source": [
    "params_tbl = pd.read_csv('parameters.csv')\n",
    "\n",
    "i = 0    # index of result of interest\n",
    "params.read_parameters_from_tbl(params_tbl , i)\n",
    "simid = \"sim_\" + \"{:04d}\".format(params.id) \n",
    "outfile = \"simulations/\" + simid + \".npz\"\n",
    "\n",
    "aux = np.load(outfile)\n",
    "cell_grid = aux['cell_grid'] \n",
    "mv_grid = aux['mv_grid'] \n",
    "drug_grid = aux['drug_grid'] \n",
    "t_series = pd.DataFrame(aux['t_series'], columns = ['Step','SNVs','SHVs', 'RNVs'])\n",
    "cell_table = pd.DataFrame(aux['cell_table'], columns = ['time','cell_id','phenotype', \n",
    "                                                        'age', 'x', 'y', 'drug'])\n"
   ]
  },
  {
   "cell_type": "markdown",
   "id": "0d47d6fe",
   "metadata": {},
   "source": [
    "## Simple visualization"
   ]
  },
  {
   "cell_type": "code",
   "execution_count": null,
   "id": "d44af3ee",
   "metadata": {},
   "outputs": [],
   "source": [
    "# We need `notebook` for the anim to render in the notebook\n",
    "%matplotlib notebook\n",
    "N = len(t_series.index)"
   ]
  },
  {
   "cell_type": "code",
   "execution_count": null,
   "id": "170340d2",
   "metadata": {},
   "outputs": [],
   "source": [
    "cell_bins = [-1, 0, 1, 2, 3]\n",
    "cell_colors = (\"#000000\", \"#2b83ba\", \"#1a9641\", \"#d7191c\")\n",
    "\n",
    "cmap = mplc.ListedColormap(cell_colors)\n",
    "norm = mplc.BoundaryNorm(cell_bins, len(cell_bins))\n",
    "\n",
    "#plt.imshow(cells[-1, :, :], interpolation='nearest', cmap=cmap, norm=norm)\n",
    "#plt.show()\n",
    "\n",
    "anim = animate(cell_grid, N, cmap, norm,  \"cells_\"+ simid + \".mp4\")"
   ]
  },
  {
   "cell_type": "code",
   "execution_count": null,
   "id": "93ee215d",
   "metadata": {},
   "outputs": [],
   "source": [
    "mv_bins = np.linspace(0, np.max(mv_grid), 11, endpoint=True)\n",
    "#mv_bins = np.linspace(0, MAX_MVS_SITE, 11, endpoint=True)\n",
    "mv_colors = (\"#ffffff\", \"#f7fcfd\", \"#e5f5f9\", \"#ccece6\", \"#99d8c9\",\n",
    "             \"#66c2a4\", \"#41ae76\", \"#238b45\", \"#006d2c\", \"#00441b\", \"#000000\")\n",
    "\n",
    "cmap = mplc.ListedColormap(mv_colors)\n",
    "norm = mplc.BoundaryNorm(mv_bins, len(mv_bins))\n",
    "\n",
    "#plt.imshow(mv_grid[-1, :, :], interpolation='nearest', cmap=cmap, norm=norm)\n",
    "#plt.show()\n",
    "\n",
    "anim = animate(mv_grid, N, cmap, norm,  \"mvs_\"+ simid + \".mp4\")"
   ]
  },
  {
   "cell_type": "code",
   "execution_count": null,
   "id": "168e6824",
   "metadata": {},
   "outputs": [],
   "source": [
    "drug_bins = np.linspace(0, np.max(drug_grid), 11, endpoint=True)\n",
    "#drug_bins = np.linspace(0, MAX_DRUG_SITE, 11, endpoint=True)\n",
    "drug_colors = (\"#ffffff\", \"#ffffcc\", \"#ffeda0\", \"#fed976\", \"#feb24c\", \n",
    "               \"#fd8d3c\", \"#fc4e2a\", \"#e31a1c\", \"#bd0026\", \"#800026\", \"#000000\")\n",
    "\n",
    "cmap = mplc.ListedColormap(drug_colors)\n",
    "norm = mplc.BoundaryNorm(drug_bins, len(drug_bins))\n",
    "\n",
    "#plt.imshow(drug_grid[-1, :, :], interpolation='nearest', cmap=cmap, norm=norm)\n",
    "#plt.show()\n",
    "anim = animate(drug_grid, N, cmap, norm,  \"drugs_\"+ simid + \".mp4\")"
   ]
  },
  {
   "cell_type": "code",
   "execution_count": null,
   "id": "3b60ab1b",
   "metadata": {},
   "outputs": [],
   "source": []
  },
  {
   "cell_type": "code",
   "execution_count": null,
   "id": "92006d44",
   "metadata": {},
   "outputs": [],
   "source": []
  }
 ],
 "metadata": {
  "kernelspec": {
   "display_name": "Python 3 (ipykernel)",
   "language": "python",
   "name": "python3"
  },
  "language_info": {
   "codemirror_mode": {
    "name": "ipython",
    "version": 3
   },
   "file_extension": ".py",
   "mimetype": "text/x-python",
   "name": "python",
   "nbconvert_exporter": "python",
   "pygments_lexer": "ipython3",
   "version": "3.9.16"
  }
 },
 "nbformat": 4,
 "nbformat_minor": 5
}
